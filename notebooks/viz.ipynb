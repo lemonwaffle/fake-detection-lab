{
 "metadata": {
  "language_info": {
   "codemirror_mode": {
    "name": "ipython",
    "version": 3
   },
   "file_extension": ".py",
   "mimetype": "text/x-python",
   "name": "python",
   "nbconvert_exporter": "python",
   "pygments_lexer": "ipython3",
   "version": "3.7.10"
  },
  "orig_nbformat": 2,
  "kernelspec": {
   "name": "python3710jvsc74a57bd0f8cb47d26f652eae6d609ded3532fd9bf573c023c853475c39cb6ed10b9f3c5e",
   "display_name": "Python 3.7.10 64-bit ('fake-detection-lab': conda)"
  }
 },
 "nbformat": 4,
 "nbformat_minor": 2,
 "cells": [
  {
   "cell_type": "code",
   "execution_count": 1,
   "metadata": {},
   "outputs": [],
   "source": [
    "import os\n",
    "os.chdir('..')\n",
    "\n",
    "%load_ext autoreload\n",
    "%autoreload 2"
   ]
  },
  {
   "cell_type": "code",
   "execution_count": 2,
   "metadata": {},
   "outputs": [],
   "source": [
    "from src.datasets import (\n",
    "    ColumbiaDataset,\n",
    "    DSO_1_Dataset,\n",
    "    InTheWildDataset,\n",
    "    RealisticTamperingDataset,\n",
    "    SceneCompletionDataset\n",
    ")\n",
    "from src.models.exif_sc import EXIF_SC\n",
    "import matplotlib.pyplot as plt\n",
    "from tqdm import tqdm"
   ]
  },
  {
   "cell_type": "code",
   "execution_count": 5,
   "metadata": {},
   "outputs": [],
   "source": [
    "def plot_pred(data, pred, save_path=None):\n",
    "    plt.subplots(figsize=(16, 8))\n",
    "    plt.subplot(2, 2, 1)\n",
    "    plt.title('Input Image')\n",
    "    plt.imshow(data['img'].permute(1, 2, 0))\n",
    "    plt.axis('off')\n",
    "\n",
    "    plt.subplot(2, 2, 2)\n",
    "    plt.title('Cluster w/ MeanShift')\n",
    "    plt.axis('off')\n",
    "    plt.imshow(pred['ms'], cmap='jet', vmin=0.0, vmax=1.0)\n",
    "\n",
    "    plt.subplot(2, 2, 3)\n",
    "    plt.title('Ground-truth Segment')\n",
    "    plt.axis('off')\n",
    "    plt.imshow(data['map'], vmin=0.0, vmax=1.0, cmap=\"gray\")\n",
    "\n",
    "    plt.subplot(2, 2, 4)\n",
    "    plt.title('Segment with NCuts')\n",
    "    plt.axis('off')\n",
    "    plt.imshow(pred['ncuts'], vmin=0.0, vmax=1.0, cmap=\"gray\")\n",
    "\n",
    "    if save_path:\n",
    "        plt.savefig(save_path + f'/{i}.png')"
   ]
  },
  {
   "cell_type": "code",
   "execution_count": 4,
   "metadata": {},
   "outputs": [
    {
     "output_type": "stream",
     "name": "stderr",
     "text": [
      "  0%|          | 0/363 [00:00<?, ?it/s]/home/angyz/miniconda3/envs/fake-detection-lab/lib/python3.7/site-packages/sklearn/utils/validation.py:63: UserWarning: Array is not symmetric, and will be converted to symmetric by average with its transpose.\n",
      "  return f(*args, **kwargs)\n",
      "  0%|          | 1/363 [00:17<1:45:05, 17.42s/it]/home/angyz/miniconda3/envs/fake-detection-lab/lib/python3.7/site-packages/sklearn/utils/validation.py:63: UserWarning: Array is not symmetric, and will be converted to symmetric by average with its transpose.\n",
      "  return f(*args, **kwargs)\n",
      "  1%|          | 2/363 [00:44<2:12:53, 22.09s/it]\n"
     ]
    },
    {
     "output_type": "error",
     "ename": "KeyboardInterrupt",
     "evalue": "",
     "traceback": [
      "\u001b[0;31m---------------------------------------------------------------------------\u001b[0m",
      "\u001b[0;31mKeyboardInterrupt\u001b[0m                         Traceback (most recent call last)",
      "\u001b[0;32m<ipython-input-4-fe42f082e10a>\u001b[0m in \u001b[0;36m<module>\u001b[0;34m\u001b[0m\n\u001b[1;32m      8\u001b[0m     \u001b[0mdata\u001b[0m \u001b[0;34m=\u001b[0m \u001b[0mds\u001b[0m\u001b[0;34m[\u001b[0m\u001b[0mi\u001b[0m\u001b[0;34m]\u001b[0m\u001b[0;34m\u001b[0m\u001b[0;34m\u001b[0m\u001b[0m\n\u001b[1;32m      9\u001b[0m \u001b[0;34m\u001b[0m\u001b[0m\n\u001b[0;32m---> 10\u001b[0;31m     \u001b[0mpred\u001b[0m \u001b[0;34m=\u001b[0m \u001b[0mmodel\u001b[0m\u001b[0;34m.\u001b[0m\u001b[0mpredict\u001b[0m\u001b[0;34m(\u001b[0m\u001b[0mdata\u001b[0m\u001b[0;34m[\u001b[0m\u001b[0;34m'img'\u001b[0m\u001b[0;34m]\u001b[0m\u001b[0;34m)\u001b[0m\u001b[0;34m\u001b[0m\u001b[0;34m\u001b[0m\u001b[0m\n\u001b[0m\u001b[1;32m     11\u001b[0m     \u001b[0mplot_pred\u001b[0m\u001b[0;34m(\u001b[0m\u001b[0mdata\u001b[0m\u001b[0;34m,\u001b[0m \u001b[0mpred\u001b[0m\u001b[0;34m,\u001b[0m \u001b[0msave_path\u001b[0m\u001b[0;34m=\u001b[0m\u001b[0;34m'artifacts/columbia_egs'\u001b[0m\u001b[0;34m)\u001b[0m\u001b[0;34m\u001b[0m\u001b[0;34m\u001b[0m\u001b[0m\n",
      "\u001b[0;32m~/code/fake-detection-lab/src/models/exif_sc/exif_sc.py\u001b[0m in \u001b[0;36mpredict\u001b[0;34m(self, img, feat_batch_size, pred_batch_size, blue_high)\u001b[0m\n\u001b[1;32m     94\u001b[0m         \u001b[0;31m# Predict consistency maps\u001b[0m\u001b[0;34m\u001b[0m\u001b[0;34m\u001b[0m\u001b[0;34m\u001b[0m\u001b[0m\n\u001b[1;32m     95\u001b[0m         pred_maps = self._predict_consistency_maps(\n\u001b[0;32m---> 96\u001b[0;31m             \u001b[0mimg\u001b[0m\u001b[0;34m,\u001b[0m \u001b[0mpatch_features\u001b[0m\u001b[0;34m,\u001b[0m \u001b[0mbatch_size\u001b[0m\u001b[0;34m=\u001b[0m\u001b[0mpred_batch_size\u001b[0m\u001b[0;34m\u001b[0m\u001b[0;34m\u001b[0m\u001b[0m\n\u001b[0m\u001b[1;32m     97\u001b[0m         )\n\u001b[1;32m     98\u001b[0m \u001b[0;34m\u001b[0m\u001b[0m\n",
      "\u001b[0;32m~/code/fake-detection-lab/src/models/exif_sc/exif_sc.py\u001b[0m in \u001b[0;36m_predict_consistency_maps\u001b[0;34m(self, img, patch_features, batch_size)\u001b[0m\n\u001b[1;32m    190\u001b[0m                 \u001b[0mpreds\u001b[0m \u001b[0;34m=\u001b[0m \u001b[0mtorch\u001b[0m\u001b[0;34m.\u001b[0m\u001b[0msigmoid\u001b[0m\u001b[0;34m(\u001b[0m\u001b[0mlogits\u001b[0m\u001b[0;34m)\u001b[0m  \u001b[0;31m# [B, 1]\u001b[0m\u001b[0;34m\u001b[0m\u001b[0;34m\u001b[0m\u001b[0m\n\u001b[1;32m    191\u001b[0m \u001b[0;34m\u001b[0m\u001b[0m\n\u001b[0;32m--> 192\u001b[0;31m             \u001b[0mpreds\u001b[0m \u001b[0;34m=\u001b[0m \u001b[0mpreds\u001b[0m\u001b[0;34m.\u001b[0m\u001b[0mcpu\u001b[0m\u001b[0;34m(\u001b[0m\u001b[0;34m)\u001b[0m\u001b[0;34m\u001b[0m\u001b[0;34m\u001b[0m\u001b[0m\n\u001b[0m\u001b[1;32m    193\u001b[0m \u001b[0;34m\u001b[0m\u001b[0m\n\u001b[1;32m    194\u001b[0m             \u001b[0;31m# FIXME Is it possible to vectorize this?\u001b[0m\u001b[0;34m\u001b[0m\u001b[0;34m\u001b[0m\u001b[0;34m\u001b[0m\u001b[0m\n",
      "\u001b[0;31mKeyboardInterrupt\u001b[0m: "
     ]
    }
   ],
   "source": [
    "ds = ColumbiaDataset()\n",
    "\n",
    "model = EXIF_SC(\"artifacts/exif_sc.npy\", device=\"cuda:1\")\n",
    "for param in model.net.parameters():\n",
    "    param.requires_grad = False\n",
    "\n",
    "for i in tqdm(range(len(ds))):\n",
    "    data = ds[i]\n",
    "\n",
    "    pred = model.predict(data['img'])\n",
    "    plot_pred(data, pred, save_path='artifacts/columbia_egs')"
   ]
  },
  {
   "cell_type": "code",
   "execution_count": null,
   "metadata": {},
   "outputs": [],
   "source": []
  }
 ]
}