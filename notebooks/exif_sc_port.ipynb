{
 "metadata": {
  "language_info": {
   "codemirror_mode": {
    "name": "ipython",
    "version": 3
   },
   "file_extension": ".py",
   "mimetype": "text/x-python",
   "name": "python",
   "nbconvert_exporter": "python",
   "pygments_lexer": "ipython3",
   "version": 3
  },
  "orig_nbformat": 2
 },
 "nbformat": 4,
 "nbformat_minor": 2,
 "cells": [
  {
   "source": [
    "# Porting EXIF-SC implementation to PyTorch\n",
    "\n",
    "Official code repository: https://github.com/minyoungg/selfconsistency\n",
    "\n",
    "1. Get PyTorch model building code for a TensorFlow-slim ResNet50 model using [MMdnn](https://github.com/Microsoft/MMdnn/blob/master/docs/tf2pytorch.md)\n",
    "\n",
    "```\n",
    "pip install mmdnn\n",
    "mmdownload -f tensorflow -n resnet_v2_50\n",
    "mmtoir -f tensorflow -n imagenet_resnet_v2_50.ckpt.meta -w imagenet_resnet_v2_50.ckpt --dstNode MMdnn_Output -o converted\n",
    "mmtocode -f pytorch -n converted.pb -w converted.npy -d converted_pytorch.py -dw converted_pytorch.npy\n",
    "```\n",
    "\n",
    "2. Download the EXIF-SC model checkpoint from the [official repo](https://github.com/minyoungg/selfconsistency)\n",
    "\n",
    "3. Examine the variables in the TensorFlow checkpoint `exif_final.ckpt`.\n",
    "    - Extract all relevant weights, and make any necessary modifications in order to load them into PyTorch layers. \n",
    "    - Modify the model building code `converted_pytorch.py` in order to load those weights into the PyTorch model."
   ],
   "cell_type": "markdown",
   "metadata": {}
  },
  {
   "cell_type": "code",
   "execution_count": null,
   "metadata": {},
   "outputs": [],
   "source": [
    "import tensorflow as tf\n",
    "from tqdm import tqdm"
   ]
  },
  {
   "cell_type": "code",
   "execution_count": null,
   "metadata": {},
   "outputs": [],
   "source": [
    "ckpt_path = 'ckpt/exif_final/exif_final.ckpt'"
   ]
  },
  {
   "cell_type": "code",
   "execution_count": null,
   "metadata": {},
   "outputs": [],
   "source": [
    "tf_vars = tf.train.list_variables(ckpt_path)"
   ]
  },
  {
   "cell_type": "code",
   "execution_count": null,
   "metadata": {},
   "outputs": [],
   "source": [
    "for name, shape in tf_vars:\n",
    "    print(name, shape)"
   ]
  },
  {
   "cell_type": "code",
   "execution_count": null,
   "metadata": {},
   "outputs": [],
   "source": [
    "# Remove unncessary variables\n",
    "# Modify the weights into a format suitable for PyTorch\n",
    "weights_dict = {}\n",
    "\n",
    "for name, _ in tqdm(tf_vars):\n",
    "\n",
    "    name_split = name.split('/')\n",
    "    weight_type = name_split[-1]\n",
    "    \n",
    "    # Exclude unnecessary variables\n",
    "    if weight_type in ['beta1_power', 'beta2_power', 'Adam', 'Adam_1']:\n",
    "        continue\n",
    "\n",
    "    weight_name = '/'.join(name_split[:-1])\n",
    "\n",
    "    weights = tf.train.load_variable(ckpt_path, name)\n",
    "    \n",
    "    # Transpose CNN weights\n",
    "    # [H, W, C, F] -> [F, C, H, W]\n",
    "    if len(weights.shape) == 4:\n",
    "        weights = np.transpose(weights, (3, 2, 0, 1))\n",
    "    # Tranpose linear matrices\n",
    "    if len(weights.shape) == 2:\n",
    "        weights = np.transpose(weights, (1, 0))\n",
    "\n",
    "    if weight_name not in weights_dict:\n",
    "        weights_dict[weight_name] = {}\n",
    "    weights_dict[weight_name][weight_type] = weights"
   ]
  },
  {
   "cell_type": "code",
   "execution_count": null,
   "metadata": {},
   "outputs": [],
   "source": [
    "# Save the weights into a separate file\n",
    "np.save('ckpt/resnet_50_pt/exif_final.npy', weights_dict)"
   ]
  }
 ]
}